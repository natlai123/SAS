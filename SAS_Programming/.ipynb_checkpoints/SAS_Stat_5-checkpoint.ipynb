{
 "cells": [
  {
   "cell_type": "markdown",
   "metadata": {},
   "source": [
    "# SAS_ECST_Lesson_5\n",
    "\n",
    "# Categorical Data Analysis\n"
   ]
  },
  {
   "cell_type": "code",
   "execution_count": null,
   "metadata": {
    "collapsed": true
   },
   "outputs": [],
   "source": [
    "%let path=/folders/myfolders/ECST131;\n",
    "libname statdata \"&path\";"
   ]
  },
  {
   "cell_type": "code",
   "execution_count": null,
   "metadata": {
    "collapsed": true
   },
   "outputs": [],
   "source": [
    "proc print data=statdata.sales_inc (obs = 10);\n",
    "run;"
   ]
  },
  {
   "cell_type": "markdown",
   "metadata": {},
   "source": [
    "There are various methods of parameterizing the classification variables. **Two common parameterization methods, or coding schemes, are effect coding and reference cell coding.** Different parameterization methods will produce the same results regarding the significance of the categorical predictors. But understanding the parameterization method will help you to interpret your results accurately. The CLASS statement specifies which parameterization method PROC LOGISTIC uses. By default, PROC LOGISTIC uses effect coding. If you specify only a variable in the CLASS statement, as in this example, PROC LOGISTIC uses effect coding. To specify a parameterization method other than the default, such as reference cell coding, you use the PARAM= option in the CLASS statement. The keyword for reference cell coding is either REFERENCE or REF, as in this example.\n",
    "\n",
    "As the default reference level for either effect coding or reference cell coding, **PROC LOGISTIC uses the level that has the highest ranked value—or, the last value—when the levels are sorted in ascending alphanumeric order.** In this example, for Gender, Male is the default reference level. If you want to specify a reference level, you use the REF= variable option. You can specify the actual value (or level) in quotation marks or the keyword FIRST or LAST. In this example, for the classification variable Gender, the REF= option specifies Male as the reference level. In this example, Male is the default reference level, so it's not necessary to specify it. However, including the REF= option makes your code easier to understand at a glance.\n",
    "\n",
    "### Effect Coding\n",
    "Deviation from the Mean Coding\n",
    "\n",
    "Effect coding compares the effect of each level of the variable to the average effect of all levels. For effect coding, the p-values indicate whether each particular level is significant compared to the average effect of all levels. The p-value for IncLevel 1 is 0.1273, which indicates that the effect of low income is no different than the average effect of low, medium, and high income. \n",
    "\n",
    "\n",
    "### Reference Cell Coding\n",
    "\n",
    "Reference cell coding compares the effect of each level of the predictor variable to the effect of another level that is the designated reference level. As the default reference level, PROC LOGISTIC uses the level that has the highest ranked value—or, the last value—when the levels are sorted in ascending alphanumeric order.  The reference level is the intercept.\n",
    "This formula $logit(p) = \\beta_{0}+ \\beta_{1}*D_{Low Income} + \\beta_{2}*D_{Medium Income}$ shows how the betas (the estimates of the parameters) are interpreted when reference cell coding is the parameterization method. $\\beta_{0}$  is the intercept, but not in terms of where you cross the Y axis. Instead, $\\beta_{0}$ is the value of the logit of the probability when income is high (or at the reference level). $\\beta_{1}$ is the difference between the logit of the probability for low and high income. $\\beta_{2}$ is the difference between the logit of the probability for medium and high income.\n",
    "\n",
    "#### Fitting a Binary Logistic Regression Model"
   ]
  },
  {
   "cell_type": "code",
   "execution_count": null,
   "metadata": {
    "collapsed": true
   },
   "outputs": [],
   "source": [
    "proc logistic data=statdata.sales_inc\n",
    "              plots(only)=(effect);\n",
    "   class Gender (param=ref ref='Male'); /*Female = 1; Male = 0*/\n",
    "   model Purchase(event='1') = Gender; \n",
    "   title1 'LOGISTIC MODEL (1):Purchase=Gender' / clodds = both ;\n",
    "run;\n",
    "title;"
   ]
  },
  {
   "cell_type": "markdown",
   "metadata": {},
   "source": [
    "AIC is Akaike's Information Criterion. SC is the Schwarz Criterion, which is also known as Schwarz's Bayesian Criterion. -2Log L is -2 times the log likelihood. AIC and SC are goodness-of-fit measures that you can use to compare one model to another. AIC and SC are not dependent on the number of terms in the model. For both AIC and SC, lower values indicate a more desirable model. **AIC adjusts for the number of predictor variables, and SC adjusts for the number of predictor variables and the number of observations. SC uses a bigger penalty for extra variables and therefore favors more parsimonious models. If you are trying to come up with the best explanatory model, AIC is the best of the three statistics to use. If you are trying to come up with the best predictive model, SC is the best statistic to use.** You can compare the AIC and SC columns for the model with the intercept only and the model with the intercept and the predictor variables. \n",
    "\n",
    "The significant p-value means that there is an association between Gender and Purchase, so females and males are statistically different from one another in terms of purchasing $100 or more. \n",
    "\n",
    "### Comparing Pairs \n",
    "\n",
    "PROC LOGISTIC then selects pairs of observations, one from each group, until no more pairs can be selected. PROC LOGISTIC determines whether each pair is concordant, discordant, or tied. \n",
    "\n",
    "Suppose a pair consists of a man from the \"less than $100\" group and a woman from the \"$100 or more\" group. We know that customers have a different predicted probability of spending the target amount, based on their gender. A man has a lower predicted probability (0.32) and a woman has a higher predicted probability (0.42) of spending that amount. In this pair, the woman spent the higher amount and the man did not, as the model predicts. **A pair is concordant if the model predicts it correctly. In other words, a pair is concordant if the observation with the desired outcome has a higher predicted probability, based on the model, than the observation without the outcome.** \n",
    "\n",
    "Suppose a woman is chosen from the \"less than \\$100\" group and a man is chosen from the \"\\$100 or more\" group. From our model, we know that a woman has a higher predicted probability (0.42) and a man has a lower predicted probability (0.32) of spending $100 or more. However, in this pair, the man spent $100 or more but the woman did not. Our model did not predict this pair correctly, so it is a discordant pair. **A pair is discordant if the observation with the desired outcome has a lower predicted probability than the observation without the outcome.**\n",
    "\n",
    "Let's look at one more pair, which consists of a woman from each group. According to our model, both have a predicted probability of 0.42 of spending $100 or more, so our model cannot distinguish between them. **A pair is tied if it is neither concordant nor discordant—the probabilities are the same.** In this example, a tied pair can consist of either two women or two men. Either way, the probabilities are the same and the model cannot distinguish between them.\n",
    "\n",
    "This table summarizes the combinations that make up the three types of pairs in this analysis. When a pair consists of a female from the group of customers with the desired outcome and a male from the group of customers without the outcome, then the pair is concordant. The pair fits the model. When a pair consists of a male from the group of customers with the desired outcome and a female from the group of customers without the outcome, then the pair is discordant. The pair does not fit the model. When a pair consists of either two males or two females, they have the same predicted probability, and the pair is tied. The predictor variable Gender has only two levels, so there are only two predicted probabilities for the outcome of purchasing \\$100 or more. More complex models have more than two predicted probabilities. However, regardless of the model's complexity, the same comparisons are made across all pairs of observations with different outcomes. \n",
    "\n",
    "Let's take another look at the Association of Predicted Probabilities and Observed Responses table. The left column lists the percentage of pairs of each type: concordant, discordant, and tied. At the bottom is the total number of observation pairs on which the percentages are based. In this example, there are 43,578 pairs of observations with different outcome values. The frequency table for Purchase that we generated in an earlier demonstration shows where the total number of pairs comes from. The data set contains 162 observations with an outcome of \\$100 dollars or more and 269 observations with an outcome of under \\$100 dollars. We multiply 162 by 269 to get 43,578 pairs of observations that have different outcome values. You can use the percentages of concordant, discordant, and tied pairs as goodness‑of‑fit measures to compare one model to another. In general, higher percentages of concordant pairs and lower percentages of discordant and tied pairs indicate a more desirable model. \n",
    "\n",
    "This table also shows the four rank correlation indices that are computed from the numbers of concordant, discordant, and tied pairs of observations: Somers' D, Gamma, Tau-a, and c. In general, a model with higher values for these indices has better predictive ability than a model with lower values. Of these indices, c is the most commonly used. The concordance index, c, estimates the probability of an observation with the desired outcome having a higher predicted probability than an observation without the desired outcome. C is calculated as the number concordant outcomes plus ½ times the number of ties divided by the total number of pairs.\n",
    "\n",
    "$$\\text{Tau-a} = \\frac{C-D}{N}$$\n",
    "\n",
    "$$Gamma = \\frac{C-D}{C+D}$$\n",
    "\n",
    "$$\\text{Somer's D} = \\frac{C-D}{C+D+T}$$\n",
    "\n",
    "$$C = .5 (\\text{Somer's D}) = 0.5(\\frac{C+T}{C+D+T})$$"
   ]
  },
  {
   "cell_type": "code",
   "execution_count": null,
   "metadata": {
    "collapsed": true
   },
   "outputs": [],
   "source": [
    "proc print data = statdata.safety;\n",
    "\n",
    "proc logistic data=statdata.safety\n",
    "              plots(only)=(effect);\n",
    "   class Region (param=ref ref='Asia'); /*Female = 1; Male = 0*/\n",
    "   model Unsafe(event='1') = Region / clodds = both ;\n",
    "   title 'LOGISTIC MODEL: Unsafe = Region';\n",
    "run;\n",
    "title;\n",
    "\n",
    "/*The odds ratio for Region says that the odds for being unsafe (having \n",
    "a below average safety rating) are 56.5% lower for cars produced in North\n",
    "America, compared with those produced in Asia. The confidence interval \n",
    "includes 1, indicating that that the odds ratio is not statistically \n",
    "significant. The difference between Asian and North American cars is shown\n",
    "on the probability scale in the effect plot.*/"
   ]
  },
  {
   "cell_type": "markdown",
   "metadata": {},
   "source": [
    "### Fitting a Multiple Logistic Regression Model\n",
    "\n",
    "Add SELECTION= option to the MODEL statement. All possible values of the SELECTION= option are shown here: BACKWARD or B requests backward elimination. FORWARD or F requests forward selection. When you specify NONE, no selection method is used. Instead, PROC LOGISTIC fits the complete model specified in the MODEL statement. STEPWISE requests stepwise selection. SCORE requests best subset selection. By default, SELECTION= is set to NONE."
   ]
  },
  {
   "cell_type": "code",
   "execution_count": null,
   "metadata": {
    "collapsed": true
   },
   "outputs": [],
   "source": [
    "proc format;\n",
    "    value incfmt 1 = 'Low Income'\n",
    "                 2 = 'Medium Income'\n",
    "                 3 = 'High Income';\n",
    "run;                 \n",
    "\n",
    "proc logistic data=statdata.sales_inc \n",
    "              plots(only)=(effect oddsratio);\n",
    "   class Gender (param=ref ref='Male') \n",
    "         IncLevel (param=ref ref='Low Income');\n",
    "   units Age=10;\n",
    "   model Purchase(event='1')=Gender Age IncLevel / \n",
    "         selection=backward clodds=pl; \n",
    "   title1 'LOGISTIC MODEL (2):Purchase=Gender Age IncLevel';\n",
    "   format IncLevel incfmt.;\n",
    "run;\n",
    "\n",
    "title;"
   ]
  },
  {
   "cell_type": "markdown",
   "metadata": {},
   "source": [
    "Looking at the Predicted probability graph above, the predicted probability for Female3 is calculated as follow:\n",
    "\n",
    "$$ \\text{Predicted probability for Female3}= \\frac{e^{Age{\\beta_{Age} + \\beta_{0} + \\beta_{Gender} + \\beta{InLvl3}}}}{1 + e^{Age{\\beta_{Age} + \\beta_{0} + \\beta_{Gender} + \\beta{InLvl3}}}} = \\frac{e^{60*0.056 - 3.3071 + 0.5204+0.8186}}{1+ e^{60*0.056 - 3.3071 + 0.5204+0.8186}} = 0.80$$\n",
    "\n",
    "We expect to see a drastic in the number of tied pairs decrease because tied pairs aren't very common when there are continuous variables in the model."
   ]
  },
  {
   "cell_type": "markdown",
   "metadata": {},
   "source": [
    "#### Fitting a Multiple Logistic Regression Model with Interactions\n",
    "\n",
    "When only significant interactions remain, PROC LOGISTIC turns its attention to the main effects. PROC LOGISTIC eliminates, one at a time, the nonsignificant main effects that are not involved in any significant interactions. Each time, PROC LOGISTIC eliminates the least significant interaction—the one with the largest p-value. When eliminating main effects, PROC LOGISTIC must preserve the model hierarchy. According to this requirement, for any interaction that's included in the model, all main effects that the interaction contains must also be in the model. For example, the interaction Gender by IncLevel is significant and has remained in the model, so both Gender and IncLevel must also remain in the model, whether or not they are significant. The only main effect that PROC LOGISTIC could possibly eliminate is Age, and only if Age is nonsignificant. \n",
    "\n",
    " By default, PROC LOGISTIC does not produce or display odds ratios for terms that are involved in interactions, and Age is the only term that is not involved in an interaction. "
   ]
  },
  {
   "cell_type": "code",
   "execution_count": null,
   "metadata": {
    "collapsed": true
   },
   "outputs": [],
   "source": [
    "proc logistic data=statdata.sales_inc \n",
    "              plots(only)=(effect oddsratio);\n",
    "   class Gender (param=ref ref='Male')\n",
    "         IncLevel (param=ref ref='1');\n",
    "   units Age=10;  /* One can use n*SD*/\n",
    "   model Purchase(event='1')=Gender | Age | IncLevel @2 /  \n",
    "   /* | adds interaction. @ sign followed by an integer indicating the maximum number \n",
    "   of variables. @2 specifies that the model will include only the two-way interactions.*/\n",
    "         selection=backward clodds=pl; \n",
    "   title1 'LOGISTIC MODEL (3): Main Effects and 2-Way Interactions';\n",
    "   title2 '/ sel=backward';\n",
    "   store out = salesout;\n",
    "run;\n",
    "title;\n",
    "\n",
    "/*One note indicates that the CLODDS= option does not compute odds ratios for effects within interactions.*/"
   ]
  },
  {
   "cell_type": "code",
   "execution_count": null,
   "metadata": {
    "collapsed": true
   },
   "outputs": [],
   "source": [
    "proc plm restore=salesout;\n",
    "run;"
   ]
  },
  {
   "cell_type": "markdown",
   "metadata": {},
   "source": [
    "### Fitting a Multiple Logistic Regression Model with All Odds Ratios"
   ]
  },
  {
   "cell_type": "code",
   "execution_count": null,
   "metadata": {
    "collapsed": false
   },
   "outputs": [],
   "source": [
    "ods graphics / width=700;\n",
    "ods select OddsRatiosPL ORPlot;\n",
    "\n",
    "proc logistic data=statdata.sales_inc \n",
    "              plots(only)=(oddsratio);\n",
    "   class Gender (param=ref ref='Male')\n",
    "         IncLevel (param=ref ref='1');\n",
    "   units Age=10;\n",
    "   model Purchase(event='1')=Gender | IncLevel Age;\n",
    "   oddsratio Age / cl=pl;\n",
    "   oddsratio Gender / diff=ref at (IncLevel=all) cl=pl;\n",
    "   oddsratio IncLevel / diff=ref at (Gender=all) cl=pl;\n",
    "   title1 'LOGISTIC MODEL (3a): Significant Terms and All Odds Ratios';\n",
    "   title2 '/ sel=backward';\n",
    "run;\n",
    "\n",
    "title;"
   ]
  },
  {
   "cell_type": "markdown",
   "metadata": {},
   "source": [
    "\n",
    "The plot below shows two slopes for IncLevel, one for males and one for females. If there is no interaction between two variables, the slopes should be relatively parallel. However, the slopes shown here are not parallel. You can see how the logit of the predicted probability of spending \\$100 or more is affected by low, medium, and high incomes for males and females. The probability of females spending \\$100 or more barely increases as the income level increases.  The probability of males spending \\$100 or more barely increases from low to medium incomes, but significantly increases from medium to high incomes. So, the probability of spending $100 or more is highly related to income for men, but is weakly related to income for women."
   ]
  },
  {
   "cell_type": "code",
   "execution_count": null,
   "metadata": {
    "collapsed": true
   },
   "outputs": [],
   "source": [
    "proc print data=statdata.sales_inc (obs=10);\n",
    "run;\n",
    "\n",
    "proc means data=statdata.sales_inc noprint nway;\n",
    "   class IncLevel Gender;\n",
    "   var Purchase;\n",
    "   output out=bins sum(Purchase)=Purchase n(Purchase)=BinSize;\n",
    "run;\n",
    "\n",
    "proc print data = bins;\n",
    "run;\n",
    "\n",
    "data bins;\n",
    "   set bins;\n",
    "      Logit=log((Purchase+1)/(BinSize-Purchase+1)); \n",
    "run;\n",
    "\n",
    "proc sgscatter data=bins;\n",
    "   plot Logit*IncLevel /group=Gender markerattrs=(size=15)\n",
    "                        join;\n",
    "   format IncLevel incfmt.;\n",
    "   label IncLevel='Income Level';\n",
    "   title;\n",
    "run;\n",
    "quit;"
   ]
  },
  {
   "cell_type": "markdown",
   "metadata": {},
   "source": [
    "### Generating Predictions Using PROC PLM\n",
    "\n",
    "The ILINK option requests that SAS provide the predictions in the form of predicted probabilities in lieu of logits where covariate effects are additive. \n",
    "\n",
    "The table produced by PROC PLM shows that the house with the highest predicted probability of being bonus eligible (0.306) has an irregular lot shape, 1 fireplace, and a basement area of 975 square feet. The house with the lowest predicted probability (0.0004) has a regular lot shape, 2 fireplaces, and a basement area of 775.\n",
    "\n",
    "Be sure that you generate predictions only for new data records that fall within the range of the training data. If not, predictions could be invalid due to extrapolation. We assume that the modeled relationship between predictors and responses holds across the span of the observed data. We should not assume that this relationship holds everywhere.\n"
   ]
  },
  {
   "cell_type": "code",
   "execution_count": null,
   "metadata": {
    "collapsed": true
   },
   "outputs": [],
   "source": [
    "ods select none;\n",
    "proc logistic data=statdata.ameshousing3;\n",
    "   class Fireplaces (ref='0') Lot_Shape_2 (ref='Regular') / param=ref;\n",
    "   model Bonus(event='1')=Basement_Area|Lot_Shape_2 Fireplaces;\n",
    "   units Basement_Area=100;\n",
    "   store out=isbonus;\n",
    "run;\n",
    "ods select all;\n",
    "\n",
    "data newhouses;\n",
    "   length Lot_Shape_2 $9;\n",
    "   input Fireplaces Lot_Shape_2 $ Basement_Area;\n",
    "   datalines;\n",
    "   0 Regular 1060\n",
    "   2 Regular 775\n",
    "   2 Irregular 1100\n",
    "   1 Irregular 975\n",
    "   1 Regular 800\n",
    "   ;\n",
    "run;\n",
    "\n",
    "proc plm restore=isbonus;\n",
    "   score data=newhouses out=scored_houses / ILINK;\n",
    "   title 'Predictions using PROC PLM';\n",
    "run;\n",
    "\n",
    "proc print data=scored_houses;\n",
    "run;"
   ]
  },
  {
   "cell_type": "markdown",
   "metadata": {},
   "source": [
    "#### Practice: Fitting a Multiple Logistic Regression Model, Saving Analysis Results, and Generating Predictions\n",
    "\n",
    "Fit a multiple logistic regression model with Unsafe as the outcome variable and Weight, Size, and Region as the predictor variables. Use the EVENT= option to model the probability of below-average safety scores. Apply the SIZEFMT. format to the variable Size. (This format is defined in the setup program for this course.) Specify Region and Size as classification variables using reference cell coding, and specify Asia as the reference level for Region and Small as the reference level for Size. Use a UNITS statement with -1 as the unit for weight so that you can see the odds ratio for lighter cars over heavier cars. Request any relevant plots. Add an appropriate title. Submit the code and view the log."
   ]
  },
  {
   "cell_type": "code",
   "execution_count": null,
   "metadata": {
    "collapsed": true
   },
   "outputs": [],
   "source": [
    "proc format ;\n",
    "value sizefmt 1 = 'Small'\n",
    "              2 = 'Medium'\n",
    "              3 = 'Large';\n",
    "run;      \n",
    "\n",
    "ods graphics on;\n",
    "\n",
    "proc logistic data=statdata.safety plots(only)=(effect oddsratio);\n",
    "   class Region (param=ref ref='Asia')\n",
    "         Size (param=ref ref= 'Small' );\n",
    "model unsafe (event = '1') = weight region size / clodds=pl selection=backward;\n",
    "unit weight = -1; \n",
    "store out = IsSafe;\n",
    "   format Size sizefmt.;\n",
    "   title 'LOGISTIC MODEL: Backwards Elimination';\n",
    "run;\n",
    "title;\n",
    "\n",
    "data checkSafety;\n",
    "   length Region $9.;\n",
    "   input Weight Size Region $ 5-13;\n",
    "   datalines;\n",
    "4 1 N America\n",
    "3 1 Asia     \n",
    "5 3 Asia     \n",
    "5 2 N America\n",
    ";\n",
    "run;\n",
    "\n",
    "proc plm restore = IsSafe;\n",
    "    score data = checkSafety out = scored_cars / ILINK;\n",
    "    title 'Predictions using PROC PLM';\n",
    "run;\n",
    "\n",
    "proc print data=scored_cars;\n",
    "run;"
   ]
  },
  {
   "cell_type": "markdown",
   "metadata": {
    "collapsed": false
   },
   "source": [
    "# Model Building and Scoring Prediction \n",
    "\n",
    "**Target marketing** is a type of database marketing, which is marketing that uses customer data to improve sales promotions and product loyalty. In target marketing, a predictive model is based on historical customer data. The predictive model contains the inputs for customer attributes that are most likely to predict a customer's response to a promotion. Historic customer databases can also be used to predict who is likely to switch brands or cancel services (which is referred to as **churn**). Loyalty promotions can then be targeted at customers who are at risk of churn.\n",
    "\n",
    "\n",
    "If data are partitioned:\n",
    "\n",
    "    PROC GLMSELECT DATA=training-data-set \n",
    "        VALDATA=validation-data-set;\n",
    "        MODEL target(s)=input(s) </ options>;\n",
    "    RUN;\n",
    "    \n",
    "If not:    \n",
    "    \n",
    "    PROC GLMSELECT DATA=training-data-set \n",
    "                               <SEED=number>;\n",
    "        MODEL target(s)=input(s) </ options>;\n",
    "        PARTITION FRACTION(<TEST=fraction><VALIDATE=fraction>);\n",
    "    RUN;\n",
    "\n",
    "The PARTITION statement requires a pseudo-random number generator to start the random selection process. The pseudo-random number generator requires a starting \"seed,\" which must be an integer. If you need to be able to reproduce your results in the future, you **specify an integer** that is greater than zero in the SEED= option. Then, whenever you run the PROC GLMSELECT step and use that seed value, the pseudo-random selection process is replicated and you get the same results. If the SEED= value specifies an invalid value or no value, the seed is automatically generated from reading the time of day from the computer's clock. In most situations, it is recommended that you use the SEED= option and specify an integer greater than zero.\n",
    "\n",
    "With GLM parameterization, one design variable is produced per level of each CLASS variable. We specify REF=FIRST so that, for each design variable, we can compare the output at the current level with the first level. By default, the reference level is the last level. \n",
    "\n",
    "CHOOSE=VALIDATE specifies that PROC GLMSELECT will select the best model based on the validation data. PROC GLMSELECT selects the model that has the smallest overall validation error. \n",
    "\n",
    "Specifically, PROC GLMSELECT calculates the average squared error, which is the sum of the squared differences between the observed value and the predicted value using the model.\n",
    "\n",
    "**Training dataset (Model Building) -> Holdout Sample, Validation Dataset (assessing model performance and select best-generalized model) -> Test dataset (Scoring)**"
   ]
  },
  {
   "cell_type": "code",
   "execution_count": null,
   "metadata": {
    "collapsed": true
   },
   "outputs": [],
   "source": [
    "proc print data = statdata.ameshousing3 (obs=10);\n",
    "run;\n",
    "proc print data = statdata.ameshousing4 (obs=10);\n",
    "run;"
   ]
  },
  {
   "cell_type": "markdown",
   "metadata": {},
   "source": [
    "Notice that the validation data set used one less observation for the analysis. This indicates that the validation data set has one more missing value than the training data set.\n",
    "\n",
    "(Total) number of Parameters = intercept + &interval + &categorical = 1 + 8 + 34 = 43 \n",
    "Number of Effects = 1 + 8 + 11 = 20\n",
    "\n",
    "Number of parameters in the model = Number of Parameters - redundant design variables = 43 - 11 = 32\n",
    "\n",
    "The SBC is assessed on the training data. In the Step 1 row, you can see why Season_Sold was removed. It produced a reduction in the SBC. Moving down the SBC column, we see that variables continue to be removed as long as the value of SBC continues to decrease. In the last row, for Step 8, the SBC value is followed by an asterisk that means Optimal Value of Criterion. \n",
    "\n",
    "Backward Selection Summary:\n",
    "\n",
    "The next column reports the training average squared error (ASE), but this is not used to select the model. A smaller average squared error is better. It seems contradictory that, as you remove variables from the model, the training average squared error tends to increase. However, this is not true for the validation data set, so the validation data set gives a better idea of how the model performs on data that was not used to build the model. Remember that the model is chosen based on the validation average squared error. \n",
    "\n",
    "Going down the column for the **validation average squared error** (the last column of Backward Selection Summary), we see that the validation average squared error continues to decrease until we get to Step 6, when Heating_QC is removed. At that point, the validation average squared error starts to increase. The model in Step 5, when Central_Air is removed, is marked with an asterisk. The asterisk indicates that this is the best model based on the validation data.\n",
    "\n",
    "The validation average squared error values at Step 4 and Step 5 are relatively close to each other. However, the model at Step 5 has one less predictor variable so it is a more parsimonious model. The parameter estimates on this vertical line are of interest to us.\n",
    "\n",
    "Looking at the training data plot, notice that the ASE cannot go down; it can only go up because the backwards elimination criterion is used to remove variables from the model. For the training data, the ASE can go down only if variables are added.\n"
   ]
  },
  {
   "cell_type": "code",
   "execution_count": null,
   "metadata": {
    "collapsed": true
   },
   "outputs": [],
   "source": [
    "%let interval=Gr_Liv_Area Basement_Area Garage_Area Deck_Porch_Area \n",
    "              Lot_Area Age_Sold Bedroom_AbvGr Total_Bathroom;        /*8 variables*/\n",
    "%let categorical=House_Style2 Overall_Qual2 Overall_Cond2 Fireplaces \n",
    "                 Season_Sold Garage_Type_2 Foundation_2 Heating_QC \n",
    "                 Masonry_Veneer Lot_Shape_2 Central_Air;\n",
    "\n",
    "ods graphics;\n",
    "\n",
    "proc glmselect data=statdata.ameshousing3\n",
    "               plots=all \n",
    "               valdata=statdata.ameshousing4;\n",
    "   class &categorical / param=glm ref=first;\n",
    "   model SalePrice=&categorical &interval / showpvalues\n",
    "                  selection=backward\n",
    "                  select=sbc \n",
    "                  choose=validate;    \n",
    "   store out=work.amesstore;\n",
    "   title \"Selecting the Best Model using Honest Assessment\";\n",
    "run;\n",
    "\n",
    "title;"
   ]
  },
  {
   "cell_type": "code",
   "execution_count": null,
   "metadata": {
    "collapsed": false
   },
   "outputs": [],
   "source": [
    "proc glmselect data = statdata.ameshousing3 seed = 1 ; *8675309;\n",
    "    class &categorical / param=glm ref=first;\n",
    "    model SalePrice=&categorical &interval / showpvalues\n",
    "                  selection=stepwise\n",
    "                  select=aic \n",
    "                  choose=validate;    \n",
    "    partition fraction(validate=0.333333);\n",
    "title \"Selecting the Best Model using Honest Assessment\";\n",
    "run;\n",
    "title;                \n",
    "                  "
   ]
  },
  {
   "cell_type": "markdown",
   "metadata": {
    "collapsed": true
   },
   "source": [
    "When you score, you do not rerun the algorithm that was used to build the model. Instead, you apply the score code—that is, the equations obtained from the final model—to the scoring data. \n",
    "\n",
    "\n",
    "Method 1 Use a SCORE statement in PROC GLMSELECT. \n",
    "\n",
    "* The first method is useful because you can build and score a model in one step. However, this method is inefficient if you want to score more than once or use a large data set to build a model. With this method, the model must be built from the training data each time the program is run.\n",
    "\n",
    "Method 2 Use a STORE statement in PROC GLMSELECT. \n",
    "         Use a SCORE statement in PROC PLM.\n",
    "\n",
    "* The second method enables you to build the model only once, along with an item store, using PROC GLMSELECT. You can then use PROC PLM to score new data using the item store. Separating the code for model building and model scoring is especially helpful if your model is based on a very large training data set or if you want to score more than once. Potential probles with this method are that others might not be able to use this code with earlier versions of SAS or you might not want to share the entire item store.\n",
    "\n",
    "Method 3 Use a STORE statement in PROC GLMSELECT. \n",
    "         Use a CODE statement in PROC PLM to output SAS code. \n",
    "         Use a DATA step for scoring. \n",
    "\n",
    "* The third method uses PROC PLM to write detailed scoring code, based on the item store, that is compatible with earlier versions of SAS. You can provide this code to others without having to share other information that is in the item store. The DATA step is then used for scoring."
   ]
  },
  {
   "cell_type": "code",
   "execution_count": null,
   "metadata": {
    "collapsed": false
   },
   "outputs": [],
   "source": [
    "/*Note:*/\n",
    "/*In your current SAS session, you must first run the code from the previous demonstration (shown above) before running the code below.\n",
    "Replace my-file-path with the path to your course practice files.*/\n",
    "\n",
    "/*Method 3*/\n",
    "proc plm restore=work.amesstore; /*Usually in a permanent file*/\n",
    "   score data=statdata.ameshousing4 out=scored;\n",
    "   code file=\"/folders/myshortcuts/_myfolders/scoring.sas\";\n",
    "run;\n",
    "\n",
    "/*Check log*/\n",
    "\n",
    "data scored2;\n",
    "   set statdata.ameshousing4;\n",
    "   %include \"/folders/myshortcuts/_myfolders/scoring.sas\";\n",
    "run;\n",
    "\n",
    "proc compare base=scored compare=scored2 criterion=0.0001;\n",
    "   var Predicted;\n",
    "   with P_SalePrice;\n",
    "run;"
   ]
  },
  {
   "cell_type": "markdown",
   "metadata": {
    "collapsed": false
   },
   "source": [
    "#### See SAS_Stat3 for the full code\n",
    "\n",
    "# SAS Statistics by Example"
   ]
  },
  {
   "cell_type": "code",
   "execution_count": null,
   "metadata": {
    "collapsed": false
   },
   "outputs": [],
   "source": [
    "title \"Logistic Regression with One Categorical Predictor Variable\";\n",
    "proc logistic data=risk;\n",
    "    class Gender (param=ref ref='F');\n",
    "    model Heart_Attack (event='Yes')= Gender / clodds = pl;\n",
    "run;\n",
    "quit;"
   ]
  },
  {
   "cell_type": "code",
   "execution_count": null,
   "metadata": {
    "collapsed": true
   },
   "outputs": [],
   "source": [
    "title \"Logistic Regression with One Continuous Predictor Variable\";\n",
    "proc logistic data=risk;\n",
    "model Heart_Attack (event='Yes') = Chol / clodds = pl;\n",
    "units Chol = 10;\n",
    "run;\n",
    "quit;"
   ]
  },
  {
   "cell_type": "code",
   "execution_count": null,
   "metadata": {
    "collapsed": true
   },
   "outputs": [],
   "source": [
    "proc format;\n",
    "    value cholgrp low-200 = 'Low to Medium'\n",
    "    201-high = 'High';\n",
    "run;\n",
    "title \"Using a Format to Create a Categorical Variable\";\n",
    "\n",
    "proc logistic data=risk;\n",
    "    class Chol (param=ref ref='Low to Medium');\n",
    "    model Heart_Attack (event='Yes') = Chol / clodds = pl;\n",
    "    format Chol cholgrp.;\n",
    "run;\n",
    "quit;"
   ]
  },
  {
   "cell_type": "code",
   "execution_count": null,
   "metadata": {
    "collapsed": true
   },
   "outputs": [],
   "source": [
    "ods graphics on;\n",
    "title \"Using a Combination of Categorical and Continuous Variables\";\n",
    "\n",
    "proc logistic data=risk;\n",
    "    class Age_Group (ref='1:< 60')\n",
    "    Gender (ref='F') / param=ref;\n",
    "    model Heart_Attack (event='Yes') = Gender Age_Group Chol /\n",
    "    clodds = pl;\n",
    "    units Chol=10;\n",
    "run;\n",
    "quit;\n",
    "ods graphics off;"
   ]
  },
  {
   "cell_type": "code",
   "execution_count": null,
   "metadata": {
    "collapsed": false
   },
   "outputs": [],
   "source": [
    "ods graphics on;\n",
    "title \"Running a Logistic Model with Interactions\";\n",
    "\n",
    "proc logistic data=risk plots(only)=(roc oddsratio);\n",
    "    class Gender (param=ref ref='F')\n",
    "    Age_Group (param=ref ref='1:< 60');\n",
    "    model Heart_Attack (event = 'Yes') = Gender | Age_Group |\n",
    "    Chol @2 /\n",
    "    selection=backward slstay=.10 clodds=pl;\n",
    "    units Chol=10;\n",
    "    oddsratio Chol;\n",
    "    oddsratio Gender;\n",
    "    oddsratio Age_Group;\n",
    "run;\n",
    "quit;\n",
    "\n",
    "ods graphics off;"
   ]
  },
  {
   "cell_type": "code",
   "execution_count": null,
   "metadata": {
    "collapsed": false
   },
   "outputs": [],
   "source": [
    "*variables\n",
    "\n",
    "Region\n",
    "Advertising\n",
    "Gender\n",
    "Book_Sales\n",
    "Music_Sales\n",
    "Electronics_Sales\n",
    "Total_Sales\n",
    ";\n",
    "\n",
    "proc format;\n",
    "   value yesno 1 = 'Yes'\n",
    "               0 = 'No';\n",
    "data Store;\n",
    "   length Region $ 5;\n",
    "   call streaminit(57676);\n",
    "   do Transaction = 1 to 200;\n",
    "      R = ceil(rand('uniform')*10);\n",
    "      select(R);\n",
    "         when(1) Region = 'East';\n",
    "         when(2) Region = 'West';\n",
    "         when(3) Region = 'North';\n",
    "         when(4) Region = 'South';\n",
    "         otherwise;\n",
    "      end;\n",
    "      Advertising = rand('bernouli',.6);\n",
    "      if rand('uniform') lt .6 then Gender = 'Female';\n",
    "         else Gender = 'Male';\n",
    "      Book_Sales = abs(round(rand('normal',250,50) + 30*(Gender = 'Female')\n",
    "                    + 30*Advertising,10)) ;\n",
    "      Music_Sales = abs(round(rand('uniform')*40 + rand('normal',50,5)\n",
    "         + 30*(Region = 'East' and Gender = 'Male')\n",
    "         - 20*(Region = 'West' and Gender = 'Female'),5) + 10*Advertising);\n",
    "      Electronics_Sales = abs(round(rand('normal',300,60) + 70*(Gender = 'Male')\n",
    "       + 55*Advertising + 50*(Region = 'East') - 20*(Region = 'South') \n",
    "       + 75*(Region = 'West'),10));\n",
    "      Total_Sales = sum(Book_Sales,Music_Sales,Electronics_Sales);\n",
    "   output;\n",
    "   end;\n",
    "   drop R;\n",
    "   format Book_Sales Music_Sales Electronics_Sales Total_Sales dollar9.\n",
    "          Advertising yesno.;\n",
    "run;\n",
    " \n",
    "/*title \"Listing of Store\";*/\n",
    "/*proc print data=store heading=h;*/\n",
    "/*run;*/\n",
    "\n",
    "/*proc univariate data=store;*/\n",
    "/*   var Book_Sales -- Total_Sales;*/\n",
    "/*   histogram;*/\n",
    "/*run;*/\n",
    "/**/\n",
    "/*title \"Scatter Matrix for Store Variables\";*/\n",
    "/*proc sgscatter data=store;*/\n",
    "/*   matrix Book_Sales -- Total_Sales / group = Gender;*/\n",
    "/*run;*/\n",
    "/**/\n",
    "/*proc sgplot data=store;*/\n",
    "/*   scatter x=Book_Sales y=Total_Sales / group=Gender;*/\n",
    "/*run;*/\n",
    "\n",
    "proc rank data=store out=median_sales groups=2;\n",
    "   var Total_Sales;\n",
    "   ranks Sales_Group;\n",
    "run;\n",
    "\n",
    "proc format;\n",
    "   value sales 0 = 'Low'\n",
    "               1 = 'High';\n",
    "run;\n",
    "\n",
    "/*proc logistic data=median_sales order=formatted;*/\n",
    "/*   class Gender(param=ref ref='Male');*/\n",
    "/*   model Sales_Group = Gender;*/\n",
    "/*   format Sales_Group sales.;*/\n",
    "/*quit;*/\n",
    "/**/\n",
    "/*proc logistic data=median_sales order=formatted;*/\n",
    "/*   class Gender(param=ref ref='Male')*/\n",
    "/*         Advertising (param=ref ref='No');*/\n",
    "/*   model Sales_Group = Gender Advertising;*/\n",
    "/*   format Sales_Group sales.;*/\n",
    "/*quit;*/\n",
    "\n",
    "*Create test data set;\n",
    "libname example 'c:\\books\\statistics by example';\n",
    "data example.Blood_Pressure;\n",
    "   call streaminit(37373);\n",
    "   do Drug = 'Placebo','Drug A','Drug B';\n",
    "      do i = 1 to 20;\n",
    "         Subj + 1;\n",
    "         if mod(Subj,2) then Gender = 'M';\n",
    "         else Gender = 'F';\n",
    "         SBP = rand('normal',130,10) +\n",
    "               7*(Drug eq 'Placebo') - 6*(Drug eq 'Drug B');\n",
    "         SBP = round(SBP,2);\n",
    "         DBP = rand('normal',80,5) +\n",
    "               3*(Drug eq 'Placebo') - 2*(Drug eq 'Drug B');\n",
    "         DBP = round(DBP,2);\n",
    "         if Subj in (5,15,25,55) then call missing(SBP, DBP);\n",
    "         if Subj in (4,18) then call missing(Gender);\n",
    "         output;\n",
    "      end;\n",
    "   end;\n",
    "   drop i;\n",
    "run;\n",
    "\n",
    "/*title \"Listing of the first 25 observations from Blood_Pressure\";*/\n",
    "/*proc print data=example.Blood_Pressure(obs=25) noobs;*/\n",
    "/*   var Subj Drug SBP DBP;*/\n",
    "/*run;*/\n",
    "\n",
    "data exercise;\n",
    "   call streaminit(7657657);\n",
    "   do Subj = 1 to 50;\n",
    "      Age = round(rand('normal',50,15));\n",
    "      Pushups = abs(int(rand('normal',40,10) - .30*age));\n",
    "      Rest_Pulse = round(rand('normal',50,8) + .35*age);\n",
    "      Max_Pulse = round(rest_pulse + rand('normal',50,5) - .05*age);\n",
    "      Run_Pulse = round(max_pulse - rand('normal',3,3));\n",
    "      output;\n",
    "   end;\n",
    "run;\n",
    "\n",
    "*Data set for a paired t-test example;\n",
    "data reading;\n",
    "   input Subj Before After @@;\n",
    "datalines;\n",
    "1 100 110  2 120 121  3 130 140  4 90 110  5 85 92\n",
    "6 133 137  7 210 209  8 155 179\n",
    ";\n",
    "\n",
    "/*title \"Listing of Data Set READING\";*/\n",
    "/*proc print data=reading noobs;*/\n",
    "/*run;*/\n",
    "\n",
    "*Data set that violates assumptions for a t-test;\n",
    "data salary;\n",
    "   call streaminit(57575);\n",
    "   do Subj = 1 to 50;\n",
    "      do Gender = 'M','F';\n",
    "         Income = round(20000*rand('exponential') + rand('uniform')*7000*(Gender = 'M'));\n",
    "         output;\n",
    "      end;\n",
    "   end;\n",
    "run;\n",
    "/*proc univariate data=salary;*/\n",
    "/*   class Gender;*/\n",
    "/*   id Subj;*/\n",
    "/*   var Income;*/\n",
    "/*   histogram Income;*/\n",
    "/*run;*/\n",
    "\n",
    "*Data set risk for logistic regression example;\n",
    "proc format;\n",
    "   value yesno 1 = 'Yes'\n",
    "               0 = 'No';\n",
    "run;\n",
    "\n",
    "data Risk;\n",
    "   call streaminit(13579);\n",
    "   length Age_Group $ 7;\n",
    "   do i = 1 to 250;\n",
    "      do Gender = 'F','M';\n",
    "         Age = round(rand('uniform')*30 + 50);\n",
    "         if missing(Age) then Age_Group = ' ';\n",
    "         else if Age lt 60 then Age_Group = '1:< 60';\n",
    "         else if Age le 70 then Age_Group = '2:60-70';\n",
    "         else Age_Group = '3:71+';\n",
    "         Chol = rand('normal',200,30) + rand('uniform')*8*(Gender='M');\n",
    "         Chol = round(Chol);\n",
    "         Score = .3*chol + age + 8*(Gender eq 'M');\n",
    "         Heart_Attack = (Score gt 130)*(rand('uniform') lt .2);\n",
    "         output;\n",
    "       end;\n",
    "   end;\n",
    "   keep Gender Age Age_Group chol Heart_Attack;\n",
    "   format Heart_Attack yesno.;\n",
    "run;\n",
    "\n",
    "/*title \"Listing of first 100 observations from RISK\";*/\n",
    "/*proc print data=risk(obs=100);*/\n",
    "/*run;*/"
   ]
  }
 ],
 "metadata": {
  "kernelspec": {
   "display_name": "SAS",
   "language": "sas",
   "name": "sas"
  },
  "language_info": {
   "codemirror_mode": "sas",
   "file_extension": ".sas",
   "mimetype": "text/x-sas",
   "name": "sas"
  }
 },
 "nbformat": 4,
 "nbformat_minor": 0
}
