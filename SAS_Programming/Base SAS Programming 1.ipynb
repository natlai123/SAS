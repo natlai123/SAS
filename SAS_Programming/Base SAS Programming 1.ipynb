{
 "cells": [
  {
   "cell_type": "markdown",
   "metadata": {},
   "source": [
    "# Base SAS Programming 1\n",
    "<div style=\"text-align: right\"> Date: 2018/14/03 </div> \n",
    "\n",
    "This note contains some programming examples that facilicate my learning in SAS. It works best and is mostly based on the Base SAS certification textbook and the lessons on SAS Programming 1 offered by the SAS Institute.\n",
    "\n",
    "\n",
    "## Content: \n",
    "\n",
    "Example 1: Options\n",
    "\n",
    "Example 2: Proc Contents\n",
    "\n",
    "Example 3: Proc Print\n",
    "\n",
    "Example 4: Proc Sort + By\n",
    "\n",
    "Example 5: SAS Format \n",
    "\n",
    "Example 6: Data Step"
   ]
  },
  {
   "cell_type": "markdown",
   "metadata": {},
   "source": [
    "### Initialization"
   ]
  },
  {
   "cell_type": "code",
   "execution_count": null,
   "metadata": {
    "scrolled": true
   },
   "outputs": [],
   "source": [
    "libname orion \"/folders/myshortcuts/SAS/SAS_Programming/ecprg193\";\n",
    "libname orion clear; * Clear the libname;\n",
    "\n",
    "libname orion \"/folders/myshortcuts/SAS/SAS_Programming/ecprg193\";"
   ]
  },
  {
   "cell_type": "markdown",
   "metadata": {},
   "source": [
    "## Example 1: Options \n",
    "\n",
    "\n",
    "    options nonumber nodate;\n",
    "    options date;\n",
    "    options number pageno=3;\n",
    "    option pagesize=15;\n",
    "    option linesize=64;\n",
    "    options datastmtchk = allkeywords;\n",
    "    \n",
    "This example saves the current system option settings using the __[OPTSAVE procedure](http://support.sas.com/documentation/cdl/en/proc/65145/HTML/default/viewer.htm#p0milazap85elqn0zslprsymhmgy.htm)__. \n",
    "\n",
    "- Remember when you use a WHERE statement in the DATA step, the WHERE expression must reference only variables from the input data set.\n",
    "\n",
    "\n",
    "- If the default value of nnnn (1920) is in effect, the 100-year span begins with 1920 and ends with 2019. Therefore, any informat or function that uses a two-digit year value that ranges from 20 to 99 assumes a prefix of 19. For example, the value 92 refers to the year 1992. See __[YEARCUTOFF= System Option](http://support.sas.com/documentation/cdl/en/lrdict/64316/HTML/default/viewer.htm#a000197881.htm)__.\n",
    "\n"
   ]
  },
  {
   "cell_type": "code",
   "execution_count": null,
   "metadata": {},
   "outputs": [],
   "source": [
    "proc optsave out = optionsave; \n",
    "run;\n",
    "\n",
    "/* data countries */\n",
    "option date pageno = 3 pagesize = 15 linesize = 64;\n",
    "\n",
    "data countries;\n",
    "set orion.country;\n",
    "run;\n",
    "\n",
    "title \"countries\";\n",
    "proc print data = countries;\n",
    "run;\n",
    "\n",
    "/* data countries1 with new options*/\n",
    "data countries1;\n",
    "set orion.country;\n",
    "where Continent_ID >= 92;\n",
    "run;\n",
    "\n",
    "options yearcutoff = 1925 firstobs=4;\n",
    "title \"countries1 (yearcutoff option)\";\n",
    "proc print data = countries1;\n",
    "run;\n",
    "\n",
    "/* Restore system options */ \n",
    "proc optload data = optionsave;\n",
    "run;\n",
    "\n",
    "/* Check the difference after restoring options setting */\n",
    "title \"countries (option restored)\";\n",
    "proc print data = countries; run;\n",
    "\n",
    "title \"countries1 (option yearcutoff restored)\";\n",
    "proc print data = countries1; run;\n",
    "title;"
   ]
  },
  {
   "cell_type": "markdown",
   "metadata": {},
   "source": [
    "##  Example 2: proc contents\n",
    "\n",
    "- \"nods\" stands for \"no details\". It is a keyword to suppress the descriptor data for each \n",
    "individual file in the library. Without it, SAS produces a long list of output.\n",
    "\n",
    "\n",
    "- \"libref.\\_ALL\\_\" requests a listing of all files in the library. (Use a period (.) to append \n",
    "the key word \\_ALL\\_ to the libref.) "
   ]
  },
  {
   "cell_type": "code",
   "execution_count": null,
   "metadata": {},
   "outputs": [],
   "source": [
    "proc contents data = orion._all_ nods;\n",
    "run;\n",
    "\n",
    "proc contents data = orion._all_;\n",
    "run;"
   ]
  },
  {
   "cell_type": "markdown",
   "metadata": {},
   "source": [
    "By default, PROC CONTENTS and PROC DATASETS list variables alphabetically. To list variable names in the order of their logical position (or creation order) in the data set, you can specify the VARNUM option in PROC CONTENTS or in the CONTENTS statement in PROC DATASETS.\n",
    "\n",
    "- \"varnum\" returns the number of a variable's position in a SAS data set;\n",
    "\n",
    "\n",
    "- \"position\" generates the \"Variables in Creation Order\" table;"
   ]
  },
  {
   "cell_type": "code",
   "execution_count": null,
   "metadata": {},
   "outputs": [],
   "source": [
    "proc contents data = orion.orders varnum; \n",
    "run;\n",
    "\n",
    "proc contents data = orion.orders position;\n",
    "run; "
   ]
  },
  {
   "cell_type": "markdown",
   "metadata": {},
   "source": [
    "The major difference between the CONTENTS procedure and the CONTENTS statement in PROC DATASETS is the default for libref in the DATA= option. For PROC CONTENTS, the default is either Work or User. For the CONTENTS statement, the default is the libref of the procedure input library. Notice also that PROC DATASETS supports RUN-group processing. It uses a QUIT statement to end the procedure. The QUIT statement and the RUN statement are not required."
   ]
  },
  {
   "cell_type": "markdown",
   "metadata": {},
   "source": [
    "## Example 3: proc print\n",
    "\n",
    "    PROC PRINT <option(s)>;\n",
    "    BY <DESCENDING> variable-1 <…<DESCENDING> variable-n> <NOTSORTED>;\n",
    "    PAGEBY BY-variable;\n",
    "    SUMBY BY-variable;\n",
    "    ID variable(s) <option>;\n",
    "    SUM variable(s) <option>;\n",
    "    VAR variable(s) <option>;\n",
    "\n",
    "\n",
    "Special WHERE Operators\n",
    "\n",
    "    BETWEEN - AND\n",
    "    WHERE SAME AND\n",
    "    IS NULL\n",
    "    IS MISSING\n",
    "    LIKE\n",
    "\n",
    "    % any number of characters\n",
    "    _ one character\n",
    "\n",
    "    where Name like '%N'\n",
    "    where Name like 'T_m%'\n",
    "\n",
    "See __[PRINT Procedure](http://support.sas.com/documentation/cdl/en/proc/65145/HTML/default/viewer.htm#p10qiuo2yicr4qn17rav8kptnjpu.htm)__"
   ]
  },
  {
   "cell_type": "code",
   "execution_count": null,
   "metadata": {},
   "outputs": [],
   "source": [
    "title \"Orion.Sales Specified\";\n",
    "proc print data = orion.sales noobs label split = ' ';\n",
    "\tlabel Job_Title = \"Job Title\"; \n",
    "\tvar Employee_ID First_Name Last_Name Job_Title;\n",
    "\twhere First_Name like 'T_m_%' and Job_Title contains \"Sales Rep.\";\n",
    "\tformat Last_Name $upcase. \n",
    "           Job_Title $quote25.;\n",
    "run;\n",
    "\n",
    "title \"Orion.Sales Origal\";\n",
    "proc print data = orion.sales;\n",
    "run;\n",
    "title;"
   ]
  },
  {
   "cell_type": "markdown",
   "metadata": {},
   "source": [
    "## Example 4: Proc Sort + By\n",
    "\n",
    "- The NODUPKEY option deletes observations with duplicate specified in the BY values.\n",
    "\n",
    "\n",
    "- PROC SORT replaces the original data set unless you specify an output data set in the OUT= option."
   ]
  },
  {
   "cell_type": "code",
   "execution_count": null,
   "metadata": {},
   "outputs": [],
   "source": [
    "proc sort data = orion.orders out = work.custorders; \n",
    "\tby Customer_ID;\n",
    "run;\n",
    "\n",
    "proc sort data = orion.orders out = work.custorders nodupkey;\n",
    "\tby Customer_ID;\n",
    "run;"
   ]
  },
  {
   "cell_type": "markdown",
   "metadata": {},
   "source": [
    "- To affect any single file, you can use FIRSTOBS= or OBS= as data set options instead of as system options. Check the second output begins with Obs = 3\n",
    "\n",
    "\n",
    "- Specify the keyword DESCENDING before each variable. Placing after the variable generates error. As in: \n",
    "\n",
    "        proc sort data=orion.sales          \n",
    "           out=work.sales2;   \n",
    "           by Country descending Salary;\n",
    "        run;\n",
    "\n",
    "\n",
    "- Subsetting in the PROC SORT step is more efficient as it selects and sorts only the required observations."
   ]
  },
  {
   "cell_type": "code",
   "execution_count": null,
   "metadata": {},
   "outputs": [],
   "source": [
    "options firstobs = 3; \n",
    "\n",
    "/* Customer ID 9 is the first; 70221 the last*/ \n",
    "proc print data=work.custorders;\n",
    " by Customer_ID; *generate messy long code;\n",
    " id Customer_ID;\n",
    "run;\n",
    "\n",
    "proc sort data = orion.orders out=work.custorders nodupkey;\n",
    "\tby descending Customer_ID;\n",
    "run;\n",
    "\n",
    "/* Customer ID 70201 becomes the first; 4 the last. */ \n",
    "proc print data=work.custorders (firstobs = 3);\n",
    "by descending Customer_ID;\n",
    "run;"
   ]
  },
  {
   "cell_type": "markdown",
   "metadata": {},
   "source": [
    "The NODUPKEY option checks for and eliminates observations with duplicate BY variable values. If you specify this option, PROC SORT compares all BY variable values for each observation to those for the previous observation written to  the output data set. If an exact match using the BY variable values is found, the observation is not written to the output data set. The DUPOUT= option can be used only with the NODUPKEY option. \n",
    "\n",
    "Compare the output below to the log file above and check if the number of obersvation matches."
   ]
  },
  {
   "cell_type": "code",
   "execution_count": null,
   "metadata": {},
   "outputs": [],
   "source": [
    "proc sort data = orion.orders out = work.custorders nodupkey dupout = work.duplicates;\n",
    "\tby Customer_ID;\n",
    "run;\n",
    "\n",
    "proc print data = work.duplicates;\n",
    "run;"
   ]
  },
  {
   "cell_type": "markdown",
   "metadata": {},
   "source": [
    "## Example 6: SAS Format\n",
    "\n"
   ]
  },
  {
   "cell_type": "code",
   "execution_count": null,
   "metadata": {},
   "outputs": [],
   "source": []
  }
 ],
 "metadata": {
  "kernelspec": {
   "display_name": "SAS",
   "language": "sas",
   "name": "sas"
  },
  "language_info": {
   "codemirror_mode": "sas",
   "file_extension": ".sas",
   "mimetype": "text/x-sas",
   "name": "sas"
  }
 },
 "nbformat": 4,
 "nbformat_minor": 2
}
